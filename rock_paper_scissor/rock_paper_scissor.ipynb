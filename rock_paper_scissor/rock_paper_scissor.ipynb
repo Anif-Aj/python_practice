{
 "cells": [
  {
   "cell_type": "markdown",
   "metadata": {},
   "source": [
    "Rock_paper_scissor\n",
    "==="
   ]
  },
  {
   "cell_type": "code",
   "execution_count": 5,
   "metadata": {},
   "outputs": [
    {
     "name": "stdout",
     "output_type": "stream",
     "text": [
      "You choose rock\n",
      "Computer picked rock.\n",
      "You loss\n",
      "You choose paper\n",
      "Computer picked scissors.\n",
      "You loss\n",
      "You choose scissors\n",
      "Computer picked paper.\n",
      "You won\n",
      "You choose q\n",
      "You choose q\n",
      "You won 1 times\n",
      "The computer won 2 times\n",
      "Good bye!\n"
     ]
    }
   ],
   "source": [
    "import random\n",
    "\n",
    "user_wins = 0\n",
    "computer_wins = 0\n",
    "\n",
    "options = [\"rock\",\"paper\",\"scissors\"]\n",
    "\n",
    "while True:\n",
    "    user_input = input(\"Type rock/paper/scissors or Q to quit. \").lower()\n",
    "    print(\"You choose\", user_input) \n",
    "    if user_input == \"q\":\n",
    "        #print(\"You choose\", user_input)\n",
    "        #quit()\n",
    "        break\n",
    "\n",
    "    #if user_input in [\"rock\",\"paper\",\"scissors\"]:\n",
    "    # change into if user_input not in [\"rock\",\"paper\",\"scissors\"]:\n",
    "   \n",
    "    if user_input not in options:   \n",
    "        continue\n",
    "\n",
    "    random_num = random.randint(0,2)\n",
    "    # # 0 = rock\n",
    "    #   1 = paper\n",
    "    #   2 = scissors\n",
    "    \n",
    "    computer_pick = options[random_num]\n",
    "    print(\"Computer picked\",computer_pick + \".\")\n",
    "\n",
    "    if user_input == \"rock\" and computer_pick == \"scissors\":\n",
    "        print (\"You won\")\n",
    "        user_wins +=1\n",
    "        continue\n",
    "\n",
    "    elif user_input == \"paper\" and computer_pick == \"rock\":\n",
    "        print (\"You won\")\n",
    "        user_wins +=1\n",
    "        continue\n",
    "        \n",
    "    elif user_input == \"scissors\" and computer_pick == \"paper\":\n",
    "        print (\"You won\")\n",
    "        user_wins +=1\n",
    "        continue\n",
    "\n",
    "    else:\n",
    "        print(\"You loss\")\n",
    "        computer_wins += 1\n",
    "\n",
    "\n",
    "print(\"You won\",user_wins,\"times\")\n",
    "print(\"The computer won\",computer_wins,\"times\")\n",
    "\n",
    "print(\"Good bye!\")\n",
    "\n",
    "\n"
   ]
  }
 ],
 "metadata": {
  "kernelspec": {
   "display_name": "Python 3",
   "language": "python",
   "name": "python3"
  },
  "language_info": {
   "codemirror_mode": {
    "name": "ipython",
    "version": 3
   },
   "file_extension": ".py",
   "mimetype": "text/x-python",
   "name": "python",
   "nbconvert_exporter": "python",
   "pygments_lexer": "ipython3",
   "version": "3.12.4"
  }
 },
 "nbformat": 4,
 "nbformat_minor": 2
}
