{
 "cells": [
  {
   "cell_type": "markdown",
   "metadata": {},
   "source": [
    "Python Conditional Statements Questions:\n",
    "==="
   ]
  },
  {
   "cell_type": "markdown",
   "metadata": {},
   "source": [
    "\n",
    "\n",
    "1. Get user input using input(“Enter your age: ”). If user is 18 or older, give feedback: You are old enough to drive. If below 18 give feedback to wait for the missing amount of years. Output:\n",
    "               \n",
    "                example:\n",
    "                    Enter your age: 30\n",
    "\n",
    "                    You are old enough to learn to drive.\n",
    "\n",
    "                    Output:\n",
    "\n",
    "                    Enter your age: 15\n",
    "\n",
    "                    You need 3 more years to learn to drive."
   ]
  },
  {
   "cell_type": "code",
   "execution_count": 3,
   "metadata": {},
   "outputs": [
    {
     "name": "stdout",
     "output_type": "stream",
     "text": [
      "You are old enough to drive\n"
     ]
    }
   ],
   "source": [
    "age = int(input(\"Enter your age:\"))\n",
    "if age >= 18:\n",
    "    print(\"You are old enough to drive\")\n",
    "else:\n",
    "    n = 18 - age \n",
    "    print(\"You need\",n,\"more years to learn to drive.\")"
   ]
  },
  {
   "cell_type": "markdown",
   "metadata": {},
   "source": [
    "2. Compare the values of my_age and your_age using if … else. Who is older (me or you)? Use input(“Enter your age: ”) to get the age as input. You can use a nested condition to print 'year' for 1 year difference in age, 'years' for bigger differences, and a custom text if my_age = your_age. Output:\n",
    "\n",
    "    example:\n",
    "\n",
    "             Enter your age: 30\n",
    "\n",
    "             You are 5 years older than me."
   ]
  },
  {
   "cell_type": "code",
   "execution_count": null,
   "metadata": {},
   "outputs": [],
   "source": []
  },
  {
   "cell_type": "markdown",
   "metadata": {},
   "source": [
    "3. Get two numbers from the user using input prompt. If a is greater than b return a is greater than b, if a is less b return a is smaller than b, else a is equal to b. Output:\n",
    "\n",
    "   example:\n",
    "   \n",
    "            Enter number one: 4\n",
    "\n",
    "            Enter number two: 3\n",
    "\n",
    "             4 is greater than 3"
   ]
  },
  {
   "cell_type": "code",
   "execution_count": 8,
   "metadata": {},
   "outputs": [
    {
     "name": "stdout",
     "output_type": "stream",
     "text": [
      "101 is greater than 30\n"
     ]
    }
   ],
   "source": [
    "n1=int(input(\"Enter a n1:\"))\n",
    "n2=int(input(\"Enter a n2:\"))\n",
    "if n1 > n2:\n",
    "    print(n1,\"is greater than\",n2)\n",
    "elif n1 == n2:\n",
    "    print(n1,\"is equal to\",n2)\n",
    "else:\n",
    "    print(n2,\"is greater than\",n1)"
   ]
  },
  {
   "cell_type": "markdown",
   "metadata": {},
   "source": [
    "4. Write a code which gives grade to students according to theirs scores:\n",
    "                \n",
    "                example:\n",
    "                \n",
    "                    80-100, A\n",
    "\n",
    "                    70-89, B\n",
    "\n",
    "                    60-69, C\n",
    "\n",
    "                    50-59, D\n",
    "\n",
    "                    0-49, F"
   ]
  },
  {
   "cell_type": "code",
   "execution_count": null,
   "metadata": {},
   "outputs": [],
   "source": []
  },
  {
   "cell_type": "markdown",
   "metadata": {},
   "source": [
    "5. Check if the season is Autumn, Winter, Spring or Summer. If the user input is: September, October or November, the season is Autumn. December, January or February, the season is Winter. March, April or May, the season is Spring June, July or August, the season is Summer"
   ]
  },
  {
   "cell_type": "code",
   "execution_count": null,
   "metadata": {},
   "outputs": [],
   "source": []
  },
  {
   "cell_type": "markdown",
   "metadata": {},
   "source": [
    "6. The following list contains some fruits:\n",
    "\n",
    "                example:\n",
    "                    fruits = ['banana', 'orange', 'mango', 'lemon']\n",
    "\n",
    "                    If a fruit doesn't exist in the list add the fruit to the list and print the modified list. If the fruit exists print('That fruit already exist in the list')"
   ]
  },
  {
   "cell_type": "code",
   "execution_count": null,
   "metadata": {},
   "outputs": [],
   "source": []
  },
  {
   "cell_type": "markdown",
   "metadata": {},
   "source": [
    "7. Here we have a person dictionary. Feel free to modify it!\n",
    "                    \n",
    "                    person={\n",
    "\n",
    "                    'first_name': 'Asabeneh',\n",
    "\n",
    "                    'last_name': 'Yetayeh',\n",
    "\n",
    "                    'age': 250,\n",
    "\n",
    "                    'country': 'Finland',\n",
    "\n",
    "                    'is_marred': True,\n",
    "\n",
    "                    'skills': ['JavaScript', 'React', 'Node', 'MongoDB', 'Python'],\n",
    "\n",
    "                    'address': {\n",
    "\n",
    "                    'street': 'Space street',\n",
    "\n",
    "                    'zipcode': '02210'\n",
    "                    }\n",
    "                    }\n",
    "                * Check if the person dictionary has skills key, if so print out the middle skill in the skills list.\n",
    "\n",
    "                * Check if the person dictionary has skills key, if so check if the person has 'Python' skill and print out the result.\n",
    "\n",
    "                * If a person skills has only JavaScript and React, print('He is a front end developer'), if the person skills has Node, Python, MongoDB, print('He is a backend developer'), if the person skills has React, Node and MongoDB, Print('He is a fullstack developer'), else print('unknown title') - for more accurate results more conditions can be nested!"
   ]
  },
  {
   "cell_type": "code",
   "execution_count": null,
   "metadata": {},
   "outputs": [],
   "source": []
  }
 ],
 "metadata": {
  "kernelspec": {
   "display_name": "Python 3",
   "language": "python",
   "name": "python3"
  },
  "language_info": {
   "codemirror_mode": {
    "name": "ipython",
    "version": 3
   },
   "file_extension": ".py",
   "mimetype": "text/x-python",
   "name": "python",
   "nbconvert_exporter": "python",
   "pygments_lexer": "ipython3",
   "version": "3.12.5"
  }
 },
 "nbformat": 4,
 "nbformat_minor": 2
}
