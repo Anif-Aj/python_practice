{
 "cells": [
  {
   "cell_type": "code",
   "execution_count": 1,
   "metadata": {},
   "outputs": [
    {
     "name": "stdout",
     "output_type": "stream",
     "text": [
      "b'My name is St\\\\xe5le'\n",
      "b'My name is Stle'\n",
      "b'My name is St\\\\N{LATIN SMALL LETTER A WITH RING ABOVE}le'\n",
      "b'My name is St?le'\n",
      "b'My name is St&#229;le'\n"
     ]
    }
   ],
   "source": [
    "txt = \"My name is Ståle\"\n",
    "\n",
    "print(txt.encode(encoding=\"ascii\",errors=\"backslashreplace\"))\n",
    "print(txt.encode(encoding=\"ascii\",errors=\"ignore\"))\n",
    "print(txt.encode(encoding=\"ascii\",errors=\"namereplace\"))\n",
    "print(txt.encode(encoding=\"ascii\",errors=\"replace\"))\n",
    "print(txt.encode(encoding=\"ascii\",errors=\"xmlcharrefreplace\"))\n"
   ]
  },
  {
   "cell_type": "code",
   "execution_count": 2,
   "metadata": {},
   "outputs": [
    {
     "name": "stdout",
     "output_type": "stream",
     "text": [
      "0\n",
      "1\n",
      "2\n",
      "3\n",
      "4\n"
     ]
    }
   ],
   "source": [
    "i=0\n",
    "while i<5:\n",
    "    print(i)\n",
    "    i=i+1\n",
    "    "
   ]
  },
  {
   "cell_type": "code",
   "execution_count": 3,
   "metadata": {},
   "outputs": [
    {
     "data": {
      "text/plain": [
       "range(0, 5)"
      ]
     },
     "execution_count": 3,
     "metadata": {},
     "output_type": "execute_result"
    }
   ],
   "source": [
    "range(0,5)"
   ]
  },
  {
   "cell_type": "code",
   "execution_count": 4,
   "metadata": {},
   "outputs": [
    {
     "data": {
      "text/plain": [
       "[0, 2, 4]"
      ]
     },
     "execution_count": 4,
     "metadata": {},
     "output_type": "execute_result"
    }
   ],
   "source": [
    "list(range(0,5,2))\n"
   ]
  },
  {
   "cell_type": "code",
   "execution_count": 5,
   "metadata": {},
   "outputs": [
    {
     "data": {
      "text/plain": [
       "(0, 2, 4)"
      ]
     },
     "execution_count": 5,
     "metadata": {},
     "output_type": "execute_result"
    }
   ],
   "source": [
    "tuple(range(0,5,2))\n"
   ]
  },
  {
   "cell_type": "code",
   "execution_count": 6,
   "metadata": {},
   "outputs": [
    {
     "name": "stdout",
     "output_type": "stream",
     "text": [
      "0\n",
      "1\n",
      "2\n",
      "3\n",
      "4\n"
     ]
    }
   ],
   "source": [
    "for i in range(5):\n",
    "    print(i)"
   ]
  },
  {
   "cell_type": "code",
   "execution_count": 7,
   "metadata": {},
   "outputs": [
    {
     "name": "stdout",
     "output_type": "stream",
     "text": [
      "H\n",
      "i\n",
      " \n",
      "t\n",
      "h\n",
      "e\n",
      "r\n",
      "e\n"
     ]
    }
   ],
   "source": [
    "s=\"Hi there\"\n",
    "for i in s:\n",
    "    print(i)"
   ]
  },
  {
   "cell_type": "code",
   "execution_count": 8,
   "metadata": {},
   "outputs": [
    {
     "name": "stdout",
     "output_type": "stream",
     "text": [
      "H\n",
      "i\n",
      " \n",
      "t\n",
      "h\n",
      "e\n",
      "r\n",
      "e\n"
     ]
    }
   ],
   "source": [
    "s=\"Hi there\"\n",
    "i=0\n",
    "while i < len(s):\n",
    "    print(s[i])\n",
    "    i=i+1"
   ]
  },
  {
   "cell_type": "code",
   "execution_count": 9,
   "metadata": {},
   "outputs": [
    {
     "name": "stdout",
     "output_type": "stream",
     "text": [
      "1\n",
      "Hi\n",
      "2\n",
      "7\n"
     ]
    }
   ],
   "source": [
    "l=[1,\"Hi\",2,7]\n",
    "for i in l:\n",
    "    print(i)"
   ]
  },
  {
   "cell_type": "code",
   "execution_count": 10,
   "metadata": {},
   "outputs": [
    {
     "name": "stdout",
     "output_type": "stream",
     "text": [
      "1\n",
      "Hi\n",
      "2\n",
      "7\n"
     ]
    }
   ],
   "source": [
    "a=[1,\"Hi\",2,7]\n",
    "i=0\n",
    "while i < len(a):\n",
    "    print(a[i])\n",
    "    i+=1"
   ]
  },
  {
   "cell_type": "code",
   "execution_count": 11,
   "metadata": {},
   "outputs": [
    {
     "name": "stdout",
     "output_type": "stream",
     "text": [
      "1\n",
      "Hi\n",
      "2\n",
      "7\n"
     ]
    }
   ],
   "source": [
    "l=[1,\"Hi\",2,7]\n",
    "for i in range(len(l)):\n",
    "    print(l[i])"
   ]
  },
  {
   "cell_type": "code",
   "execution_count": 12,
   "metadata": {},
   "outputs": [
    {
     "name": "stdout",
     "output_type": "stream",
     "text": [
      "2\n",
      "4\n",
      "6\n"
     ]
    }
   ],
   "source": [
    "i=0\n",
    "while i < 6:\n",
    "    i=i+1\n",
    "    if i%2 != 0:\n",
    "        continue\n",
    "    print(i)\n"
   ]
  },
  {
   "cell_type": "markdown",
   "metadata": {},
   "source": [
    "write a program to add two number\n",
    "---\n"
   ]
  },
  {
   "cell_type": "code",
   "execution_count": 13,
   "metadata": {},
   "outputs": [
    {
     "name": "stdout",
     "output_type": "stream",
     "text": [
      "30\n",
      "3040\n"
     ]
    }
   ],
   "source": [
    "def add_number(number):\n",
    "    return number\n",
    "\n",
    "number=add_number(10+20)\n",
    "print(number)\n",
    "number=add_number(40+3000)\n",
    "print(number)"
   ]
  },
  {
   "cell_type": "code",
   "execution_count": 14,
   "metadata": {},
   "outputs": [
    {
     "name": "stdout",
     "output_type": "stream",
     "text": [
      "the sum of 100 and 100 is 200\n"
     ]
    }
   ],
   "source": [
    " #add two numbers\n",
    "def add_two_number(a,b):\n",
    "    c=a+b\n",
    "    return c\n",
    "n1=int(input(\"enter n1 value\"))\n",
    "n2=int(input(\"enter n2 value\"))\n",
    "\n",
    "sum=add_two_number(n1,n2)\n",
    "print(\"the sum of\",n1,\"and\",n2,\"is\",sum)\n"
   ]
  },
  {
   "cell_type": "code",
   "execution_count": 15,
   "metadata": {},
   "outputs": [
    {
     "name": "stdout",
     "output_type": "stream",
     "text": [
      "10000\n"
     ]
    }
   ],
   "source": [
    "def squaring_value(a):\n",
    "    c=a**2\n",
    "    return c\n",
    "n1=int(input(\"enter a value\"))\n",
    "\n",
    "result=squaring_value(n1)\n",
    "print(result)"
   ]
  },
  {
   "cell_type": "code",
   "execution_count": 16,
   "metadata": {},
   "outputs": [
    {
     "name": "stdout",
     "output_type": "stream",
     "text": [
      "0\n"
     ]
    }
   ],
   "source": [
    "n1=int(input(\"enter n1 value\"))\n",
    "n2=int(input(\"enter n2 value\"))\n",
    "\n",
    "def subraction(a,b):\n",
    "    c=a-b\n",
    "    return c\n",
    "ans=subraction(n1,n2)\n",
    "print(ans)"
   ]
  },
  {
   "cell_type": "markdown",
   "metadata": {},
   "source": [
    "fac"
   ]
  },
  {
   "cell_type": "code",
   "execution_count": 17,
   "metadata": {},
   "outputs": [
    {
     "name": "stdout",
     "output_type": "stream",
     "text": [
      "the factorial of  10 is 3628800\n"
     ]
    }
   ],
   "source": [
    "import math\n",
    "n=int(input(\"enter a number for factorial\"))\n",
    "result=math.factorial(n)\n",
    "print(\"the factorial of \",n,\"is\",result)"
   ]
  },
  {
   "cell_type": "markdown",
   "metadata": {},
   "source": [
    "check even number using function\n",
    "---"
   ]
  },
  {
   "cell_type": "code",
   "execution_count": 18,
   "metadata": {},
   "outputs": [
    {
     "name": "stdout",
     "output_type": "stream",
     "text": [
      "Even\n",
      "Even\n"
     ]
    }
   ],
   "source": [
    "def even_check(number):    # def --> function block(#parameter)\n",
    "    if number%2 == 0:  \n",
    "        return\"Even\"\n",
    "    else:\n",
    "        return\"Odd\" \n",
    "#clients        \n",
    "number = (even_check(20)) #arguments\n",
    "print(number)  \n",
    "\n",
    "number = even_check(30) \n",
    "print(number)"
   ]
  },
  {
   "cell_type": "code",
   "execution_count": 19,
   "metadata": {},
   "outputs": [
    {
     "name": "stdout",
     "output_type": "stream",
     "text": [
      "Even\n",
      "None\n",
      "Even\n",
      "None\n"
     ]
    }
   ],
   "source": [
    "def even_check(number):    # def --> function block\n",
    "    if number%2 == 0:  \n",
    "        print(\"Even\")\n",
    "    else:\n",
    "        print(\"Odd\")\n",
    "        \n",
    "number = even_check(20) \n",
    "print(number)  \n",
    "\n",
    "number = even_check(30) \n",
    "print(number)"
   ]
  },
  {
   "cell_type": "code",
   "execution_count": 20,
   "metadata": {},
   "outputs": [
    {
     "name": "stdout",
     "output_type": "stream",
     "text": [
      "30\n",
      "40\n"
     ]
    }
   ],
   "source": [
    "def even_check(number):    # def --> function block\n",
    "    number = number + 10\n",
    "    return number\n",
    "    \n",
    "number = even_check(20) \n",
    "print(number)  \n",
    "\n",
    "number = even_check(30) \n",
    "print(number)"
   ]
  },
  {
   "cell_type": "code",
   "execution_count": 21,
   "metadata": {},
   "outputs": [
    {
     "name": "stdout",
     "output_type": "stream",
     "text": [
      "50\n",
      "80\n"
     ]
    }
   ],
   "source": [
    "def add_number(number):\n",
    "    number = number+40\n",
    "    return number\n",
    "\n",
    "number=add_number(10)\n",
    "print(number)\n",
    "number=add_number(40)\n",
    "print(number)"
   ]
  },
  {
   "cell_type": "code",
   "execution_count": 22,
   "metadata": {},
   "outputs": [],
   "source": [
    "def a(a):\n",
    "    a=a+b\n",
    "    return a"
   ]
  },
  {
   "cell_type": "code",
   "execution_count": 26,
   "metadata": {},
   "outputs": [
    {
     "name": "stdout",
     "output_type": "stream",
     "text": [
      "My favorite fruit is pineapple\n",
      "I don't like fruit\n"
     ]
    }
   ],
   "source": [
    "def myfunc(**kwargs):\n",
    "    if 'fruit' in kwargs:\n",
    "        print(f\"My favorite fruit is {kwargs['fruit']}\")  # review String Formatting and f-strings if this syntax is unfamiliar\n",
    "    else:\n",
    "        print(\"I don't like fruit\")\n",
    "        \n",
    "myfunc(fruit='pineapple')\n",
    "myfunc()"
   ]
  },
  {
   "cell_type": "code",
   "execution_count": 27,
   "metadata": {},
   "outputs": [
    {
     "name": "stdout",
     "output_type": "stream",
     "text": [
      "Hello, Alice!\n",
      "Hi, Bob?\n",
      "Hey, Carol!!!\n"
     ]
    }
   ],
   "source": [
    "# Function definition with three parameters\n",
    "def greet(name, greeting, punctuation):\n",
    "    message = f\"{greeting}, {name}{punctuation}\"\n",
    "    return message\n",
    "\n",
    "# Calling the function with keyword arguments\n",
    "result = greet(name=\"Alice\", greeting=\"Hello\", punctuation=\"!\")\n",
    "print(result)  # Output: Hello, Alice!\n",
    "\n",
    "result = greet(greeting=\"Hi\", name=\"Bob\", punctuation=\"?\")\n",
    "print(result)  # Output: Hi, Bob?\n",
    "\n",
    "result = greet(punctuation=\"!!!\", name=\"Carol\", greeting=\"Hey\")\n",
    "print(result)  # Output: Hey, Carol!!!\n"
   ]
  },
  {
   "cell_type": "code",
   "execution_count": 39,
   "metadata": {},
   "outputs": [
    {
     "name": "stdout",
     "output_type": "stream",
     "text": [
      "70\n"
     ]
    }
   ],
   "source": [
    "def sum_all(a, b, *c):\n",
    "    print(sum((a, b, *c)))\n",
    "sum_all(1, 2, 3, 45, 6, 6, 7)\n",
    "   "
   ]
  },
  {
   "cell_type": "code",
   "execution_count": 37,
   "metadata": {},
   "outputs": [
    {
     "name": "stdout",
     "output_type": "stream",
     "text": [
      "70\n"
     ]
    }
   ],
   "source": [
    "def sum_all(a, b, *c):\n",
    "    print(sum((a, b, *c)))\n",
    "sum_all(1, 2, 3, 45, 6, 6, 7)"
   ]
  },
  {
   "cell_type": "code",
   "execution_count": 10,
   "metadata": {},
   "outputs": [
    {
     "name": "stdout",
     "output_type": "stream",
     "text": [
      "19051\n"
     ]
    }
   ],
   "source": [
    "def func(a,b,*c):\n",
    "    return (sum((a,b,*c)))\n",
    "a=func(10,1,2,4,10101,10,23,4,5,3,8888)\n",
    "print(a)"
   ]
  },
  {
   "cell_type": "code",
   "execution_count": 1,
   "metadata": {},
   "outputs": [
    {
     "data": {
      "text/plain": [
       "6.0"
      ]
     },
     "execution_count": 1,
     "metadata": {},
     "output_type": "execute_result"
    }
   ],
   "source": [
    "def myfunc(*args):\n",
    "    return sum(args)*.05\n",
    "\n",
    "myfunc(40,60,20)"
   ]
  },
  {
   "cell_type": "markdown",
   "metadata": {},
   "source": [
    "Class\n",
    "---\n"
   ]
  },
  {
   "cell_type": "code",
   "execution_count": 1,
   "metadata": {},
   "outputs": [
    {
     "name": "stdout",
     "output_type": "stream",
     "text": [
      "this is my car  red colour ford mustang\n"
     ]
    }
   ],
   "source": [
    "class Car:\n",
    "    def info(self,colour,brand,model):\n",
    "        self.colour = colour\n",
    "        self.brand = brand\n",
    "        self.model = model\n",
    "        print(\"this is my car \",self.colour,\"colour\",self.brand,self.model)\n",
    "\n",
    "obj_1 = Car()\n",
    "obj_1.info(\"red\",\"ford\",\"mustang\")\n",
    "#print (obj_1.colour,obj_1.brand,obj_1.model)"
   ]
  },
  {
   "cell_type": "markdown",
   "metadata": {},
   "source": [
    "constructor\n",
    "---\n"
   ]
  },
  {
   "cell_type": "code",
   "execution_count": 30,
   "metadata": {},
   "outputs": [
    {
     "name": "stdout",
     "output_type": "stream",
     "text": [
      "My name is anif im 20 years old\n",
      "I can Vote\n"
     ]
    }
   ],
   "source": [
    "class Student:\n",
    "    def __init__(self,name,age):\n",
    "        self.name=name\n",
    "        self.age=age\n",
    "    def vote_eligible(self):\n",
    "        if (self.age) >=18:\n",
    "            print(\"My name is\",self.name,\"im\",self.age,\"years old\")\n",
    "            print(\"I can Vote\")\n",
    "        else:\n",
    "            print(\"Wait for  your age\")\n",
    "\n",
    "t = Student(\"anif\",20)\n",
    "t.vote_eligible()"
   ]
  },
  {
   "cell_type": "markdown",
   "metadata": {},
   "source": []
  },
  {
   "cell_type": "code",
   "execution_count": 43,
   "metadata": {},
   "outputs": [
    {
     "name": "stdout",
     "output_type": "stream",
     "text": [
      "Result:  1.6666666666666667\n",
      "No exceptions detected\n",
      "I will always get executed\n"
     ]
    }
   ],
   "source": [
    "try:\n",
    "    val_1 = int(input(\"Please 1st enter an integer: \"))\n",
    "    val_2 = int(input(\"Please 2nd enter an integer: \"))\n",
    "    result = val_1/val_2\n",
    "    print(\"Result: \",result)\n",
    "except ValueError:\n",
    "    print(\"Looks like you did not enter an integer!\")\n",
    "#except ZeroDivisionError:\n",
    "    #print(\"Give value other than 0\")\n",
    "except:\n",
    "    print(\"No idea about the error\")\n",
    "else:\n",
    "    print(\"No exceptions detected\")\n",
    "finally:\n",
    "    print(\"I will always get executed\")"
   ]
  },
  {
   "cell_type": "code",
   "execution_count": 32,
   "metadata": {},
   "outputs": [
    {
     "ename": "ValueError",
     "evalue": "invalid literal for int() with base 10: 'wss'",
     "output_type": "error",
     "traceback": [
      "\u001b[1;31m---------------------------------------------------------------------------\u001b[0m",
      "\u001b[1;31mValueError\u001b[0m                                Traceback (most recent call last)",
      "Cell \u001b[1;32mIn[32], line 1\u001b[0m\n\u001b[1;32m----> 1\u001b[0m val_1 \u001b[38;5;241m=\u001b[39m \u001b[38;5;28;43mint\u001b[39;49m\u001b[43m(\u001b[49m\u001b[38;5;28;43minput\u001b[39;49m\u001b[43m(\u001b[49m\u001b[38;5;124;43m\"\u001b[39;49m\u001b[38;5;124;43mPlease 1st enter an integer: \u001b[39;49m\u001b[38;5;124;43m\"\u001b[39;49m\u001b[43m)\u001b[49m\u001b[43m)\u001b[49m\n",
      "\u001b[1;31mValueError\u001b[0m: invalid literal for int() with base 10: 'wss'"
     ]
    }
   ],
   "source": [
    " val_1 = int(input(\"Please 1st enter an integer: \"))"
   ]
  },
  {
   "cell_type": "code",
   "execution_count": 33,
   "metadata": {},
   "outputs": [
    {
     "ename": "ZeroDivisionError",
     "evalue": "division by zero",
     "output_type": "error",
     "traceback": [
      "\u001b[1;31m---------------------------------------------------------------------------\u001b[0m",
      "\u001b[1;31mZeroDivisionError\u001b[0m                         Traceback (most recent call last)",
      "Cell \u001b[1;32mIn[33], line 1\u001b[0m\n\u001b[1;32m----> 1\u001b[0m \u001b[38;5;241;43m4\u001b[39;49m\u001b[38;5;241;43m/\u001b[39;49m\u001b[38;5;241;43m0\u001b[39;49m\n",
      "\u001b[1;31mZeroDivisionError\u001b[0m: division by zero"
     ]
    }
   ],
   "source": [
    "4/0"
   ]
  },
  {
   "cell_type": "code",
   "execution_count": 34,
   "metadata": {},
   "outputs": [
    {
     "data": {
      "text/plain": [
       "0.0"
      ]
     },
     "execution_count": 34,
     "metadata": {},
     "output_type": "execute_result"
    }
   ],
   "source": [
    "0/4"
   ]
  },
  {
   "cell_type": "code",
   "execution_count": 45,
   "metadata": {},
   "outputs": [
    {
     "name": "stdout",
     "output_type": "stream",
     "text": [
      "Looks like you did not enter an integer!\n",
      "Finally, I executed!\n",
      "Looks like you did not enter an integer!\n",
      "Finally, I executed!\n",
      "Looks like you did not enter an integer!\n",
      "Finally, I executed!\n",
      "Looks like you did not enter an integer!\n",
      "Finally, I executed!\n",
      "Looks like you did not enter an integer!\n",
      "Finally, I executed!\n",
      "Looks like you did not enter an integer!\n",
      "Finally, I executed!\n",
      "Looks like you did not enter an integer!\n",
      "Finally, I executed!\n",
      "Looks like you did not enter an integer!\n",
      "Finally, I executed!\n",
      "Looks like you did not enter an integer!\n",
      "Finally, I executed!\n",
      "Looks like you did not enter an integer!\n",
      "Finally, I executed!\n",
      "Looks like you did not enter an integer!\n",
      "Finally, I executed!\n",
      "Yep that's an integer!\n",
      "Finally, I executed!\n"
     ]
    }
   ],
   "source": [
    "def askint():\n",
    "    while True:\n",
    "        try:\n",
    "            val = int(input(\"Please enter an integer: \"))\n",
    "        except:\n",
    "            print(\"Looks like you did not enter an integer!\")\n",
    "            continue\n",
    "        else:\n",
    "            print(\"Yep that's an integer!\")\n",
    "            break\n",
    "        finally:     \n",
    "            print(\"Finally, I executed!\")\n",
    "        print(val)\n",
    "askint()"
   ]
  }
 ],
 "metadata": {
  "kernelspec": {
   "display_name": "Python 3",
   "language": "python",
   "name": "python3"
  },
  "language_info": {
   "codemirror_mode": {
    "name": "ipython",
    "version": 3
   },
   "file_extension": ".py",
   "mimetype": "text/x-python",
   "name": "python",
   "nbconvert_exporter": "python",
   "pygments_lexer": "ipython3",
   "version": "3.12.4"
  }
 },
 "nbformat": 4,
 "nbformat_minor": 2
}
