{
 "cells": [
  {
   "cell_type": "code",
   "execution_count": 3,
   "metadata": {},
   "outputs": [
    {
     "name": "stdout",
     "output_type": "stream",
     "text": [
      "welcome anif\n"
     ]
    }
   ],
   "source": [
    "print(\"welcome anif\")"
   ]
  },
  {
   "cell_type": "code",
   "execution_count": 42,
   "metadata": {},
   "outputs": [
    {
     "name": "stdout",
     "output_type": "stream",
     "text": [
      "True\n",
      "25252\n"
     ]
    }
   ],
   "source": [
    "num=int(input(\"enter a mnumber\"))\n",
    "b = str(num)\n",
    "reverse = b[::-1]\n",
    "if str(num) == reverse:\n",
    "    print(\"True\")\n",
    "else:\n",
    "    print(\"false\")\n",
    "\n",
    "print(reverse)"
   ]
  },
  {
   "cell_type": "code",
   "execution_count": 96,
   "metadata": {},
   "outputs": [
    {
     "name": "stdout",
     "output_type": "stream",
     "text": [
      "['1', '0', '0']\n",
      "100\n",
      "001\n",
      "Given string is not palindrome\n"
     ]
    }
   ],
   "source": [
    "# palindrome using loop\n",
    "a=str(input(\"Enter anything for check palindrome\"))\n",
    "char =[]\n",
    "for i in a:\n",
    "    # print(i,end=\"\")\n",
    "    char.append(i) #append the sinlge char in list\n",
    "print(char)\n",
    "\n",
    "result = ''.join(char) #join the list into string\n",
    "print(result)\n",
    "rev = result[::-1] # reverse the string\n",
    "print(rev)\n",
    "if a == rev:\n",
    "    print(\"given string is palindrome\")\n",
    "else:\n",
    "    print(\"Given string is not palindrome\")\n",
    "\n",
    "\n",
    "\n"
   ]
  },
  {
   "cell_type": "code",
   "execution_count": 38,
   "metadata": {},
   "outputs": [
    {
     "name": "stdout",
     "output_type": "stream",
     "text": [
      "# # # # # \n",
      " # # # # #\n",
      "# # # # # \n",
      " # # # # #\n",
      "# # # # # \n"
     ]
    }
   ],
   "source": [
    "n=5\n",
    "for i in range(n):\n",
    "    if (i%2) == 0: \n",
    "        print(\"# \" * n )\n",
    "    else:\n",
    "        print(\" #\" * n)          \n",
    "        "
   ]
  },
  {
   "cell_type": "code",
   "execution_count": 41,
   "metadata": {},
   "outputs": [
    {
     "name": "stdout",
     "output_type": "stream",
     "text": [
      "X X X X X \n",
      "X       X\n",
      "X       X\n",
      "X       X\n",
      "X X X X X \n"
     ]
    }
   ],
   "source": [
    "n=5\n",
    "for i in range(0,n):\n",
    "    if( i == 0 or i == n-1):\n",
    "        print(\"X \" * n)\n",
    "    else:\n",
    "        print(\"X \" + \"  \" * (n-2) + \"X\")\n"
   ]
  },
  {
   "cell_type": "code",
   "execution_count": 55,
   "metadata": {},
   "outputs": [
    {
     "name": "stdout",
     "output_type": "stream",
     "text": [
      "\n",
      "* \n",
      "* * \n",
      "* * * \n",
      "* * * * \n"
     ]
    }
   ],
   "source": [
    "n=4\n",
    "for i in range(n+1):\n",
    "    print(\"* \" * i)"
   ]
  },
  {
   "cell_type": "code",
   "execution_count": 65,
   "metadata": {},
   "outputs": [
    {
     "name": "stdout",
     "output_type": "stream",
     "text": [
      "1 \n",
      "2 3 \n",
      "4 5 6 \n"
     ]
    }
   ],
   "source": [
    "num = 1\n",
    "rows = 3\n",
    "for i in range(1,rows+1):\n",
    "    for j in range(i):\n",
    "        print(num,end=\" \")\n",
    "        num += 1\n",
    "    print(\"\")"
   ]
  },
  {
   "cell_type": "code",
   "execution_count": 4,
   "metadata": {},
   "outputs": [
    {
     "name": "stdout",
     "output_type": "stream",
     "text": [
      "python for beginners\n"
     ]
    }
   ],
   "source": [
    "course = \"python for beginners\"\n",
    "another = course[:]\n",
    "print(another)\n"
   ]
  },
  {
   "cell_type": "code",
   "execution_count": 8,
   "metadata": {},
   "outputs": [
    {
     "name": "stdout",
     "output_type": "stream",
     "text": [
      "ennife\n"
     ]
    }
   ],
   "source": [
    "name = \"jennifer\"\n",
    "print(name[1:-1])"
   ]
  },
  {
   "cell_type": "code",
   "execution_count": 18,
   "metadata": {},
   "outputs": [
    {
     "name": "stdout",
     "output_type": "stream",
     "text": [
      "john [smith] is a coder\n"
     ]
    }
   ],
   "source": [
    "first = 'john'\n",
    "last = 'smith'\n",
    "message = first + ' [' + last +']  is a coder'\n",
    "msg = f'{first} [{last}] is a coder'\n",
    "# print(message)\n",
    "print(msg)"
   ]
  },
  {
   "cell_type": "code",
   "execution_count": 38,
   "metadata": {},
   "outputs": [
    {
     "name": "stdout",
     "output_type": "stream",
     "text": [
      "-1\n"
     ]
    }
   ],
   "source": [
    "course = 'Python for beginners'\n",
    "# print(course.upper())\n",
    "# print(course.lower())\n",
    "# print(course)\n",
    "print(course.find('O'))"
   ]
  },
  {
   "cell_type": "code",
   "execution_count": null,
   "metadata": {},
   "outputs": [],
   "source": [
    "aadhar =int(input(\"Enter a gmail\"))\n",
    "if len(aadhar) != 15 and len(aadhar) >= 4:\n",
    "    return False\n",
    "if aadhar ="
   ]
  },
  {
   "cell_type": "code",
   "execution_count": 55,
   "metadata": {},
   "outputs": [
    {
     "name": "stdout",
     "output_type": "stream",
     "text": [
      "False\n"
     ]
    }
   ],
   "source": [
    "def aadhaar(aadhar_number):\n",
    "    # Check if the format is correct (14 characters with spaces)\n",
    "    if len(aadhar_number) != 14:\n",
    "        return False\n",
    "\n",
    "    # Split the input into parts\n",
    "    parts = aadhar_number.split()\n",
    "\n",
    "    # Validate that there are 3 groups of 4 digits\n",
    "    if len(parts) != 3 or any(len(part) != 4 for part in parts):\n",
    "        return False\n",
    "\n",
    "    # Check that the first digit is not '0'\n",
    "    if parts[0] == '0':\n",
    "        return False\n",
    "\n",
    "    # Validate that all characters are digits\n",
    "    for part in parts:\n",
    "        if not part.isdigit():\n",
    "            return False\n",
    "\n",
    "    return True\n",
    "\n",
    "aadhar=aadhaar(input(\"aadhar num\"))\n",
    "print(aadhar)\n"
   ]
  }
 ],
 "metadata": {
  "kernelspec": {
   "display_name": "Python 3",
   "language": "python",
   "name": "python3"
  },
  "language_info": {
   "codemirror_mode": {
    "name": "ipython",
    "version": 3
   },
   "file_extension": ".py",
   "mimetype": "text/x-python",
   "name": "python",
   "nbconvert_exporter": "python",
   "pygments_lexer": "ipython3",
   "version": "3.12.5"
  }
 },
 "nbformat": 4,
 "nbformat_minor": 2
}
