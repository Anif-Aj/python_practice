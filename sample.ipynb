{
 "cells": [
  {
   "cell_type": "code",
   "execution_count": 3,
   "metadata": {},
   "outputs": [
    {
     "name": "stdout",
     "output_type": "stream",
     "text": [
      "welcome anif\n"
     ]
    }
   ],
   "source": [
    "print(\"welcome anif\")"
   ]
  },
  {
   "cell_type": "code",
   "execution_count": 42,
   "metadata": {},
   "outputs": [
    {
     "name": "stdout",
     "output_type": "stream",
     "text": [
      "True\n",
      "25252\n"
     ]
    }
   ],
   "source": [
    "num=int(input(\"enter a mnumber\"))\n",
    "b = str(num)\n",
    "reverse = b[::-1]\n",
    "if str(num) == reverse:\n",
    "    print(\"True\")\n",
    "else:\n",
    "    print(\"false\")\n",
    "\n",
    "print(reverse)"
   ]
  },
  {
   "cell_type": "code",
   "execution_count": 92,
   "metadata": {},
   "outputs": [
    {
     "name": "stdout",
     "output_type": "stream",
     "text": [
      "['m', 'a', 'l', 'a', 'y', 'a', 'l', 'a', 'm']\n",
      "malayalam\n",
      "malayalam\n",
      "given string is palindrome\n"
     ]
    }
   ],
   "source": [
    "# palindrome using loop\n",
    "a=str(input(\"Enter anything for check palindrome\"))\n",
    "char =[]\n",
    "for i in a:\n",
    "    # print(i,end=\"\")\n",
    "    char.append(i) #append the sinlge char in list\n",
    "print(char)\n",
    "\n",
    "result = ''.join(char) #join the list into string\n",
    "print(result)\n",
    "rev = result[::-1] # reverse the string\n",
    "print(rev)\n",
    "if a == rev:\n",
    "    print(\"given string is palindrome\")\n",
    "else:\n",
    "    print(\"Given string is not palindrome\")\n",
    "\n",
    "\n",
    "\n"
   ]
  },
  {
   "cell_type": "code",
   "execution_count": null,
   "metadata": {},
   "outputs": [],
   "source": []
  }
 ],
 "metadata": {
  "kernelspec": {
   "display_name": "Python 3",
   "language": "python",
   "name": "python3"
  },
  "language_info": {
   "codemirror_mode": {
    "name": "ipython",
    "version": 3
   },
   "file_extension": ".py",
   "mimetype": "text/x-python",
   "name": "python",
   "nbconvert_exporter": "python",
   "pygments_lexer": "ipython3",
   "version": "3.12.5"
  }
 },
 "nbformat": 4,
 "nbformat_minor": 2
}
