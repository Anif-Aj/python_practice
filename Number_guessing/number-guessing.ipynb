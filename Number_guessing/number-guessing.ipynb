{
 "cells": [
  {
   "cell_type": "markdown",
   "metadata": {},
   "source": [
    "Number Guessing\n",
    "==="
   ]
  },
  {
   "cell_type": "code",
   "execution_count": 1,
   "metadata": {},
   "outputs": [
    {
     "name": "stdout",
     "output_type": "stream",
     "text": [
      "range of number 10\n",
      "9\n",
      "You were above the number\n",
      "7\n",
      "You were above the number\n",
      "8\n",
      "You were above the number\n",
      "2\n",
      "You were below the number\n",
      "3\n",
      "You were below the number\n",
      "4\n",
      "You were below the number\n",
      "5\n",
      "You've Got it\n",
      "You got it in 7 guesses\n"
     ]
    }
   ],
   "source": [
    "import random\n",
    "\n",
    "top_of_range = input(\"Type a range of number\")\n",
    "print(\"range of number\",top_of_range)\n",
    "\n",
    "if top_of_range.isdigit():\n",
    "    top_of_range = int(top_of_range)\n",
    "\n",
    "    if top_of_range <= 0:\n",
    "        print(\"Type a number large than 0 next time..!\")\n",
    "        quit()\n",
    "else:\n",
    "    print(\"Please type a number next time..!\")\n",
    "    quit\n",
    "\n",
    "random_number = random.randint(0,top_of_range)\n",
    "guesses = 0\n",
    "\n",
    "while True:\n",
    "    guesses += 1\n",
    "    user_guess = input(\"Make a guess\")\n",
    "    print(user_guess)\n",
    "    if user_guess.isdigit():\n",
    "        user_guess=int(user_guess)\n",
    "    else:\n",
    "        print(\"Please type a number next time\")\n",
    "        continue\n",
    "    \n",
    "    if user_guess == random_number:\n",
    "        print(\"You've Got it\")\n",
    "        break\n",
    "    elif user_guess > random_number:\n",
    "        print(\"You were above the number\")\n",
    "    else:\n",
    "        print(\"You were below the number\")\n",
    "\n",
    "print(\"You got it in\",guesses,'guesses')"
   ]
  }
 ],
 "metadata": {
  "kernelspec": {
   "display_name": "Python 3",
   "language": "python",
   "name": "python3"
  },
  "language_info": {
   "codemirror_mode": {
    "name": "ipython",
    "version": 3
   },
   "file_extension": ".py",
   "mimetype": "text/x-python",
   "name": "python",
   "nbconvert_exporter": "python",
   "pygments_lexer": "ipython3",
   "version": "3.12.4"
  }
 },
 "nbformat": 4,
 "nbformat_minor": 2
}
