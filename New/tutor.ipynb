{
 "cells": [
  {
   "cell_type": "code",
   "execution_count": 1,
   "metadata": {},
   "outputs": [],
   "source": [
    "def name_of_function():\n",
    "    #code to be executed\n",
    "    \n",
    "    return\n",
    "\n",
    "name_of_function() #function calling\n"
   ]
  },
  {
   "cell_type": "code",
   "execution_count": 3,
   "metadata": {},
   "outputs": [
    {
     "name": "stdout",
     "output_type": "stream",
     "text": [
      "Hello aaWorld!\n"
     ]
    }
   ],
   "source": [
    "def say_hello():\n",
    "    print(\"Hello aaWorld!\")\n",
    "    \n",
    "say_hello()"
   ]
  },
  {
   "cell_type": "code",
   "execution_count": 10,
   "metadata": {},
   "outputs": [
    {
     "ename": "TypeError",
     "evalue": "Vote.vote_eligible() takes 2 positional arguments but 3 were given",
     "output_type": "error",
     "traceback": [
      "\u001b[1;31m---------------------------------------------------------------------------\u001b[0m",
      "\u001b[1;31mTypeError\u001b[0m                                 Traceback (most recent call last)",
      "Cell \u001b[1;32mIn[10], line 12\u001b[0m\n\u001b[0;32m      9\u001b[0m             \u001b[38;5;28mprint\u001b[39m(name, \u001b[38;5;124m\"\u001b[39m\u001b[38;5;124mNot eligile\u001b[39m\u001b[38;5;124m\"\u001b[39m)\n\u001b[0;32m     11\u001b[0m check \u001b[38;5;241m=\u001b[39m Vote()\n\u001b[1;32m---> 12\u001b[0m \u001b[43mcheck\u001b[49m\u001b[38;5;241;43m.\u001b[39;49m\u001b[43mvote_eligible\u001b[49m\u001b[43m(\u001b[49m\u001b[38;5;124;43m\"\u001b[39;49m\u001b[38;5;124;43manif\u001b[39;49m\u001b[38;5;124;43m\"\u001b[39;49m\u001b[43m,\u001b[49m\u001b[38;5;241;43m17\u001b[39;49m\u001b[43m)\u001b[49m\n",
      "\u001b[1;31mTypeError\u001b[0m: Vote.vote_eligible() takes 2 positional arguments but 3 were given"
     ]
    }
   ],
   "source": [
    "#to check vote eligile \n",
    "\n",
    "class Vote:\n",
    "    def vote_eligible(name,age): #parameter\n",
    "        #name = input(\"Enter Your name\")\n",
    "        if age >= 18:\n",
    "            print(name, \"YOu can vote\")\n",
    "        else:\n",
    "            print(name, \"Not eligile\")\n",
    "\n",
    "check = Vote()\n",
    "check.vote_eligible(\"anif\",17)"
   ]
  },
  {
   "cell_type": "code",
   "execution_count": 4,
   "metadata": {},
   "outputs": [
    {
     "name": "stdout",
     "output_type": "stream",
     "text": [
      "30\n"
     ]
    }
   ],
   "source": [
    "a=10 \n",
    "b=20\n",
    "print(a+b)"
   ]
  },
  {
   "cell_type": "code",
   "execution_count": null,
   "metadata": {},
   "outputs": [],
   "source": []
  },
  {
   "cell_type": "code",
   "execution_count": null,
   "metadata": {},
   "outputs": [],
   "source": []
  },
  {
   "cell_type": "markdown",
   "metadata": {},
   "source": [
    "function names cannot start with:\n",
    "\n",
    "1. Numbers\n",
    "Function names cannot start with a number. This is because Python’s naming conventions require identifiers (including function names) to begin with a letter or an underscore (_).\n",
    "\n",
    "    Invalid:\n",
    "    2nd_place_winner() \n",
    "    10_top_results()\n",
    "\n",
    "    Valid:\n",
    "    second_place_winner()\n",
    "    top_10_results()\n",
    "\n",
    "2. Special Characters\n",
    "\n",
    "Function names cannot start with any special characters, except for the underscore (_).\n",
    "\n",
    "    Invalid:\n",
    "    @calculate_area()\n",
    "    $total_price()\n",
    "    #validate_input()\n",
    "\n",
    "    Valid:\n",
    "    _calculate_area()\n",
    "\n",
    "3. Python Reserved Keywords\n",
    "\n",
    "Python function names cannot start with or be the same as a reserved keyword (also known as a keyword or a built-in identifier). These are predefined words in Python that have a specific meaning in the language (e.g., class, if, for, def, try, import).\n",
    "\n",
    "    Invalid:\n",
    "    def()\n",
    "    class()\n",
    "    return()\n",
    "\n",
    "    Valid:\n",
    "    define()\n",
    "    classify()\n",
    "    return_value()\n",
    "\n",
    "4. Whitespace\n",
    "Function names cannot contain spaces, so they cannot start or have spaces within them. Spaces are not allowed in Python identifiers.\n",
    "\n",
    "    Invalid:\n",
    "    calculate area()\n",
    "    process input()\n",
    "\n",
    "    Valid:\n",
    "    calculate_area()\n",
    "    process_input()\n",
    "\n",
    "5. Underscore (_) as the First Character\n",
    "\n",
    "While a function can start with an underscore (_), this typically signifies that the function is intended to be private or for internal use in the context of a class or module. It's not a technical restriction, but rather a convention used to denote that the function is part of the internal implementation.\n",
    "\n",
    "    Valid (though used with a specific intent):\n",
    "    _internal_function()\n",
    "\n",
    "    Not a restriction, but you should use it with caution as it implies a convention.\n",
    "\n",
    "Summary of What Function Names Cannot Start With:\n",
    "\n",
    "    Numbers (2nd_function())\n",
    "    Special characters (like @, $, #)\n",
    "    Reserved Python keywords (def, class, return)\n",
    "    Spaces (function name())"
   ]
  },
  {
   "cell_type": "code",
   "execution_count": null,
   "metadata": {},
   "outputs": [],
   "source": []
  },
  {
   "cell_type": "code",
   "execution_count": null,
   "metadata": {},
   "outputs": [],
   "source": []
  },
  {
   "cell_type": "code",
   "execution_count": null,
   "metadata": {},
   "outputs": [],
   "source": []
  },
  {
   "cell_type": "code",
   "execution_count": 8,
   "metadata": {},
   "outputs": [
    {
     "name": "stdout",
     "output_type": "stream",
     "text": [
      "15\n"
     ]
    }
   ],
   "source": [
    "def add(a,b):\n",
    "    return a+b\n",
    "\n",
    "add1=add(10,5)\n",
    "print(add1)"
   ]
  }
 ],
 "metadata": {
  "kernelspec": {
   "display_name": "Python 3",
   "language": "python",
   "name": "python3"
  },
  "language_info": {
   "codemirror_mode": {
    "name": "ipython",
    "version": 3
   },
   "file_extension": ".py",
   "mimetype": "text/x-python",
   "name": "python",
   "nbconvert_exporter": "python",
   "pygments_lexer": "ipython3",
   "version": "3.12.5"
  }
 },
 "nbformat": 4,
 "nbformat_minor": 2
}
