{
 "cells": [
  {
   "cell_type": "markdown",
   "metadata": {},
   "source": [
    "Amstrong value\n",
    "---\n"
   ]
  },
  {
   "cell_type": "code",
   "execution_count": 9,
   "metadata": {},
   "outputs": [
    {
     "name": "stdout",
     "output_type": "stream",
     "text": [
      "0\n",
      "1\n",
      "2\n",
      "3\n",
      "4\n",
      "5\n",
      "6\n",
      "7\n",
      "8\n",
      "9\n",
      "153\n",
      "370\n",
      "371\n",
      "407\n",
      "1634\n",
      "8208\n",
      "9474\n",
      "54748\n",
      "92727\n",
      "93084\n",
      "548834\n",
      "1741725\n",
      "4210818\n",
      "9800817\n",
      "9926315\n"
     ]
    }
   ],
   "source": [
    "for i in range(10000001):\n",
    "    num=i\n",
    "    result=0\n",
    "    n=len(str(i))\n",
    "    while(i!=0):\n",
    "       digit=i%10\n",
    "       result=result+digit**n\n",
    "       i=i//10\n",
    "    if num==result:\n",
    "           print(num)\n",
    "\n"
   ]
  },
  {
   "cell_type": "markdown",
   "metadata": {},
   "source": [
    "Pattern program\n",
    "---"
   ]
  },
  {
   "cell_type": "code",
   "execution_count": 8,
   "metadata": {},
   "outputs": [
    {
     "name": "stdout",
     "output_type": "stream",
     "text": [
      "1 \n",
      "12 \n",
      "123 \n",
      "1234 \n",
      "12345 \n"
     ]
    }
   ],
   "source": [
    "n=int(input(\"enter a rows and column\"))\n",
    "for i in range(1,n+1):\n",
    "    for j in range(1,i+1):\n",
    "        print(j,end=\"\")\n",
    "    print(\" \")"
   ]
  },
  {
   "cell_type": "markdown",
   "metadata": {},
   "source": [
    "factorial\n",
    "---"
   ]
  },
  {
   "cell_type": "markdown",
   "metadata": {},
   "source": [
    "1. using math library"
   ]
  },
  {
   "cell_type": "code",
   "execution_count": 6,
   "metadata": {},
   "outputs": [
    {
     "name": "stdout",
     "output_type": "stream",
     "text": [
      "the factorial of 5 is 120\n"
     ]
    }
   ],
   "source": [
    "import math\n",
    "n=int(input(\"enter a number\"))\n",
    "ans=math.factorial(n)\n",
    "print(\"the factorial of\",n,\"is\",ans)"
   ]
  },
  {
   "cell_type": "markdown",
   "metadata": {},
   "source": [
    "2. using recursive \n"
   ]
  },
  {
   "cell_type": "code",
   "execution_count": 10,
   "metadata": {},
   "outputs": [
    {
     "name": "stdout",
     "output_type": "stream",
     "text": [
      "the factorial of  5 is 120\n"
     ]
    }
   ],
   "source": [
    "def factorial(n):\n",
    "    if n==0:\n",
    "        return 1\n",
    "    else:\n",
    "        return n*factorial(n-1)\n",
    "n=int(input(\"enter a number\"))\n",
    "result=factorial(n)\n",
    "print(\"the factorial of \",n,\"is\",result)"
   ]
  },
  {
   "cell_type": "markdown",
   "metadata": {},
   "source": [
    "3. using for loop"
   ]
  },
  {
   "cell_type": "code",
   "execution_count": null,
   "metadata": {},
   "outputs": [],
   "source": []
  },
  {
   "cell_type": "code",
   "execution_count": 12,
   "metadata": {},
   "outputs": [
    {
     "name": "stdout",
     "output_type": "stream",
     "text": [
      "X X X X X X X X X X X X X X X X X X X \n",
      "X                                   X\n",
      "X                                   X\n",
      "X                                   X\n",
      "X                                   X\n",
      "X                                   X\n",
      "X                                   X\n",
      "X                                   X\n",
      "X                                   X\n",
      "X                                   X\n",
      "X                                   X\n",
      "X                                   X\n",
      "X                                   X\n",
      "X                                   X\n",
      "X                                   X\n",
      "X                                   X\n",
      "X                                   X\n",
      "X                                   X\n",
      "X X X X X X X X X X X X X X X X X X X \n"
     ]
    }
   ],
   "source": [
    "def square(n):\n",
    "    for i in range(0,n):\n",
    "        if (i == 0 or i == n - 1):\n",
    "            print(\"X \" * n)\n",
    "        else:\n",
    "            print(\"X \" + \"  \" * (n - 2) + \"X\")\n",
    "\n",
    "sq=int(input(\"enter length of square\"))\n",
    "square(sq)"
   ]
  }
 ],
 "metadata": {
  "kernelspec": {
   "display_name": "Python 3",
   "language": "python",
   "name": "python3"
  },
  "language_info": {
   "codemirror_mode": {
    "name": "ipython",
    "version": 3
   },
   "file_extension": ".py",
   "mimetype": "text/x-python",
   "name": "python",
   "nbconvert_exporter": "python",
   "pygments_lexer": "ipython3",
   "version": "3.12.5"
  }
 },
 "nbformat": 4,
 "nbformat_minor": 2
}
